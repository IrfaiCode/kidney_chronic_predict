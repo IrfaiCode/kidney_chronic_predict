{
 "cells": [
  {
   "cell_type": "code",
   "execution_count": 6,
   "id": "2358fa43",
   "metadata": {},
   "outputs": [],
   "source": [
    "import pandas as pd\n",
    "\n",
    "data = []\n",
    "with open('chronic_kidney_disease.arff', \"r\") as f:\n",
    "    for line in f:\n",
    "        line = line.replace('\\n', '')\n",
    "        data.append(line.split(','))\n",
    "\n",
    "\n",
    "names = ['age', 'bp', 'sg', 'al', 'su', 'rbc', 'pc', 'pcc', 'ba',\n",
    "         'bgr', 'bu',  'sc', 'sod', 'pot', 'hemo', 'pcv', 'wbcc',\n",
    "         'rbcc', 'htn', 'dm', 'cad', 'appet', 'pe', 'ane',\n",
    "         'class', 'no_name']\n",
    "    \n",
    "df = pd.DataFrame(data[145:], columns=names)\n",
    "df.to_csv('chronic_kidney_disease_full.csv', index=False)"
   ]
  }
 ],
 "metadata": {
  "kernelspec": {
   "display_name": "base",
   "language": "python",
   "name": "python3"
  },
  "language_info": {
   "codemirror_mode": {
    "name": "ipython",
    "version": 3
   },
   "file_extension": ".py",
   "mimetype": "text/x-python",
   "name": "python",
   "nbconvert_exporter": "python",
   "pygments_lexer": "ipython3",
   "version": "3.10.9"
  }
 },
 "nbformat": 4,
 "nbformat_minor": 5
}
